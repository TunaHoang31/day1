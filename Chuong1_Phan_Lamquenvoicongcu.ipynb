{
 "cells": [
  {
   "cell_type": "markdown",
   "id": "dde3e4b1",
   "metadata": {},
   "source": [
    "<center>\n",
    "    <h1>CHƯƠNG 1: TỔNG QUAN VỀ HỌC MÁY</h1>\n",
    "</center>\n",
    "\n",
    "<img src='Pic/123.jpg' width='500px'>\n",
    "\n",
    "**Nội dung bài học:**\n",
    "1. Trí tuệ nhân tạp (AI)\n",
    "2. Học máy (ML)\n",
    "3. Lịch sử và ứng dụng của học máy\n",
    "4. Các thuật toán học máy\n",
    "    * Học có giám sát\n",
    "    * Học không giám sát\n",
    "    * Học bán giám sát\n",
    "    * Học củng cố\n",
    "5. Học các kiến thức và kỹ năng làm về học máy\n",
    "6. Chuẩn bị công cụ và môi trường học tập\n",
    "---\n",
    "***Copyright: Trần Huy Hoàng - 2121050251-FIT.HUMG***"
   ]
  },
  {
   "cell_type": "code",
   "execution_count": 7,
   "id": "3fbca182",
   "metadata": {},
   "outputs": [
    {
     "name": "stdout",
     "output_type": "stream",
     "text": [
      "1 Mọi thứ lơn lao đều bắt nguồn từ những thứ bé nhỏ\n",
      "2 Mọi thứ lơn lao đều bắt nguồn từ những thứ bé nhỏ\n",
      "3 Mọi thứ lơn lao đều bắt nguồn từ những thứ bé nhỏ\n",
      "4 Mọi thứ lơn lao đều bắt nguồn từ những thứ bé nhỏ\n"
     ]
    }
   ],
   "source": [
    "#Check biên dịch Python:\n",
    "for i in range (1,5):\n",
    "    print(i, 'Mọi thứ lơn lao đều bắt nguồn từ những thứ bé nhỏ')"
   ]
  },
  {
   "cell_type": "code",
   "execution_count": 1,
   "id": "5a7eccd6",
   "metadata": {},
   "outputs": [
    {
     "name": "stdout",
     "output_type": "stream",
     "text": [
      " chào mừng bạn đến với môn học máy 7080510\n"
     ]
    }
   ],
   "source": [
    "print(' chào mừng bạn đến với môn học máy 7080510')"
   ]
  },
  {
   "cell_type": "markdown",
   "id": "ec9f4868",
   "metadata": {},
   "source": [
    "**Bài tập kiểm tra lập trình python:**\n",
    "\n",
    "---\n",
    "\n",
    "**Yêu Cầu:**\n",
    "    + Nhập vào 2 số nguyên a, b (<=100):\n",
    "    + Liệt kê tất cả các số nguyên dương trong khoảng từ 1 đến 100.\n",
    "    Thỏa mãn điều kiện chia hết cho a, không chia hết cho b\n",
    "    \n",
    "VD a = 5, b= 20\n",
    "Kết quả các số thỏa mãn: 5, 15, 25,...\n",
    "THử chạy với a =2, b =4"
   ]
  },
  {
   "cell_type": "code",
   "execution_count": 8,
   "id": "f3d6218e",
   "metadata": {},
   "outputs": [
    {
     "name": "stdout",
     "output_type": "stream",
     "text": [
      "Nhập số nguyên a (<= 100): 2\n",
      "Nhập số nguyên b (<= 100): 4\n",
      "Các số nguyên dương từ 1 đến 100 chia hết cho 2 nhưng không chia hết cho 4 là:\n",
      "2\n",
      "6\n",
      "10\n",
      "14\n",
      "18\n",
      "22\n",
      "26\n",
      "30\n",
      "34\n",
      "38\n",
      "42\n",
      "46\n",
      "50\n",
      "54\n",
      "58\n",
      "62\n",
      "66\n",
      "70\n",
      "74\n",
      "78\n",
      "82\n",
      "86\n",
      "90\n",
      "94\n",
      "98\n"
     ]
    }
   ],
   "source": [
    "def liet_ke_so_nguyen_duong(a, b):\n",
    "    for i in range(1, 101):\n",
    "        if i % a == 0 and i % b != 0:\n",
    "            print(i)\n",
    "\n",
    "# Nhập vào hai số nguyên a và b (<=100)\n",
    "a = int(input(\"Nhập số nguyên a (<= 100): \"))\n",
    "b = int(input(\"Nhập số nguyên b (<= 100): \"))\n",
    "\n",
    "# Gọi hàm liệt kê và in ra kết quả\n",
    "print(f\"Các số nguyên dương từ 1 đến 100 chia hết cho {a} nhưng không chia hết cho {b} là:\")\n",
    "liet_ke_so_nguyen_duong(a, b)"
   ]
  },
  {
   "cell_type": "markdown",
   "id": "2f6af0a8",
   "metadata": {},
   "source": [
    "<h2>6.2 Kiểm tra các thư viện quan trọng </h2>\n",
    "\n",
    "---\n"
   ]
  },
  {
   "cell_type": "code",
   "execution_count": 9,
   "id": "8ddf0dd4",
   "metadata": {},
   "outputs": [
    {
     "name": "stdout",
     "output_type": "stream",
     "text": [
      "Version Numby: 1.24.3\n"
     ]
    }
   ],
   "source": [
    "#Kiểm tra thư viện Numpy\n",
    "import numpy as np\n",
    "print ('Version Numby:', np.__version__)"
   ]
  },
  {
   "cell_type": "code",
   "execution_count": 11,
   "id": "7154d42b",
   "metadata": {},
   "outputs": [
    {
     "name": "stdout",
     "output_type": "stream",
     "text": [
      "Version Pandas: 2.0.3\n"
     ]
    }
   ],
   "source": [
    "#Kiểm tra thư viện pandas\n",
    "import pandas as pd\n",
    "print ('Version Pandas:', pd.__version__)"
   ]
  },
  {
   "cell_type": "code",
   "execution_count": 12,
   "id": "dc1f9565",
   "metadata": {},
   "outputs": [
    {
     "name": "stdout",
     "output_type": "stream",
     "text": [
      "Version MPL: 3.7.2\n"
     ]
    }
   ],
   "source": [
    "#Kiểm tra thư viện Numpy\n",
    "import matplotlib as mpl\n",
    "print ('Version MPL:', mpl.__version__)"
   ]
  },
  {
   "cell_type": "code",
   "execution_count": 14,
   "id": "b0d79fdc",
   "metadata": {},
   "outputs": [
    {
     "name": "stdout",
     "output_type": "stream",
     "text": [
      "Version sk: 1.3.0\n"
     ]
    }
   ],
   "source": [
    "#Kiểm tra thư viện Numpy\n",
    "import sklearn as sk\n",
    "print ('Version sk:', sk.__version__)"
   ]
  },
  {
   "cell_type": "code",
   "execution_count": null,
   "id": "c9fbaeb4",
   "metadata": {},
   "outputs": [],
   "source": []
  }
 ],
 "metadata": {
  "kernelspec": {
   "display_name": "Python 3 (ipykernel)",
   "language": "python",
   "name": "python3"
  },
  "language_info": {
   "codemirror_mode": {
    "name": "ipython",
    "version": 3
   },
   "file_extension": ".py",
   "mimetype": "text/x-python",
   "name": "python",
   "nbconvert_exporter": "python",
   "pygments_lexer": "ipython3",
   "version": "3.11.5"
  }
 },
 "nbformat": 4,
 "nbformat_minor": 5
}
